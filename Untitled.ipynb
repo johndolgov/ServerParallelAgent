{
 "cells": [
  {
   "cell_type": "code",
   "execution_count": null,
   "metadata": {},
   "outputs": [],
   "source": [
    "import ray\n",
    "from ray import tune\n",
    "import gym\n",
    "from ray.rllib.models import ModelCatalog\n",
    "import ray.rllib.agents.dqn as DQNAgent\n",
    "import time\n",
    "from itertools import zip_longest\n",
    "from ray.rllib.env.vector_env import VectorEnv\n",
    "from ray.rllib.utils.policy_client import PolicyClient"
   ]
  },
  {
   "cell_type": "code",
   "execution_count": null,
   "metadata": {},
   "outputs": [],
   "source": [
    "class CPEnviroment(object):\n",
    "    def __init__(self):\n",
    "        self.env = gym.make(\"CartPole-v0\")\n",
    "    \n",
    "    def reset(self):\n",
    "        return self.env.reset()\n",
    "    \n",
    "    def step(self, action):\n",
    "        return self.env.step(action)\n",
    "    \n",
    "    def render(self):\n",
    "        return self.env.render()"
   ]
  },
  {
   "cell_type": "code",
   "execution_count": null,
   "metadata": {},
   "outputs": [],
   "source": [
    "def get_action(episode, obs):\n",
    "    return client.get_action(episode, obs)"
   ]
  },
  {
   "cell_type": "code",
   "execution_count": null,
   "metadata": {},
   "outputs": [],
   "source": [
    "def step(env,action):\n",
    "    return env.step(action)"
   ]
  },
  {
   "cell_type": "code",
   "execution_count": null,
   "metadata": {},
   "outputs": [],
   "source": [
    "def log_return_and_end(episode, rew, obs, done):\n",
    "    client.log_returns(episode, rew)\n",
    "    if done:\n",
    "        client.end_episode(episode, obs)"
   ]
  },
  {
   "cell_type": "code",
   "execution_count": null,
   "metadata": {},
   "outputs": [],
   "source": [
    "def create_envs(cls, num_envs=4):\n",
    "    ray.init()\n",
    "    return [cls() for _ in range(num_envs)]"
   ]
  },
  {
   "cell_type": "code",
   "execution_count": null,
   "metadata": {},
   "outputs": [],
   "source": [
    "def reset(env):\n",
    "    return env.reset()"
   ]
  },
  {
   "cell_type": "code",
   "execution_count": null,
   "metadata": {},
   "outputs": [],
   "source": [
    "def start_ep(client, num_envs=4):\n",
    "    return client.start_episode(), False\n",
    "    #return [client.start_episode() for _ in range(num_envs)], [False for _ in range(num_envs)]"
   ]
  },
  {
   "cell_type": "code",
   "execution_count": null,
   "metadata": {},
   "outputs": [],
   "source": [
    "@ray.remote\n",
    "def run_episode(env, client):\n",
    "    start=time.time()\n",
    "    obs = reset(env)\n",
    "    ep, done = start_ep(client)\n",
    "    tot_rew = 0\n",
    "    while not done:\n",
    "        action = get_action(ep, obs)\n",
    "        transition = step(env, action)\n",
    "        rew = transition[1]\n",
    "        tot_rew += rew\n",
    "        done = transition[2]\n",
    "        obs = transition[0]\n",
    "        log_return_and_end(ep, rew, obs, done)\n",
    "    print('Episode', time.time() - start)\n",
    "    print(\"Episode reward\", tot_rew)"
   ]
  },
  {
   "cell_type": "code",
   "execution_count": null,
   "metadata": {},
   "outputs": [],
   "source": [
    "def run_episode_u(env, client):\n",
    "    start=time.time()\n",
    "    obs = reset(env)\n",
    "    ep, done = start_ep(client)\n",
    "    tot_rew = 0\n",
    "    time.sleep(2)\n",
    "    while not done:\n",
    "        action = get_action(ep, obs)\n",
    "        transition = step(env, action)\n",
    "        rew = transition[1]\n",
    "        tot_rew += rew\n",
    "        done = transition[2]\n",
    "        obs = transition[0]\n",
    "        log_return_and_end(ep, rew, obs, done)\n",
    "    print('Episode', time.time() - start)\n",
    "    print(\"Episode reward\", tot_rew)"
   ]
  },
  {
   "cell_type": "code",
   "execution_count": null,
   "metadata": {},
   "outputs": [],
   "source": [
    "client = PolicyClient(\"http://localhost:9900\")\n",
    "envs = create_envs(CPEnviroment, 10)"
   ]
  },
  {
   "cell_type": "code",
   "execution_count": null,
   "metadata": {},
   "outputs": [],
   "source": [
    "start = time.time()\n",
    "ray.get([run_episode.remote(env, client) for env in envs])\n",
    "print('All Envs', time.time() - start)"
   ]
  },
  {
   "cell_type": "code",
   "execution_count": null,
   "metadata": {},
   "outputs": [],
   "source": []
  },
  {
   "cell_type": "code",
   "execution_count": null,
   "metadata": {},
   "outputs": [],
   "source": [
    "start = time.time()\n",
    "[run_episode_u(env, client) for env in envs]\n",
    "print('All Envs', time.time() - start)"
   ]
  },
  {
   "cell_type": "code",
   "execution_count": null,
   "metadata": {},
   "outputs": [],
   "source": [
    "for "
   ]
  }
 ],
 "metadata": {
  "kernelspec": {
   "display_name": "Python 3",
   "language": "python",
   "name": "python3"
  },
  "language_info": {
   "codemirror_mode": {
    "name": "ipython",
    "version": 3
   },
   "file_extension": ".py",
   "mimetype": "text/x-python",
   "name": "python",
   "nbconvert_exporter": "python",
   "pygments_lexer": "ipython3",
   "version": "3.7.3"
  }
 },
 "nbformat": 4,
 "nbformat_minor": 2
}
